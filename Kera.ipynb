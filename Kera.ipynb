{
 "cells": [
  {
   "cell_type": "code",
   "execution_count": 5,
   "metadata": {},
   "outputs": [],
   "source": [
    "import pandas as pd\n",
    "import numpy as np"
   ]
  },
  {
   "cell_type": "code",
   "execution_count": 6,
   "metadata": {},
   "outputs": [
    {
     "data": {
      "text/html": [
       "<div>\n",
       "<style scoped>\n",
       "    .dataframe tbody tr th:only-of-type {\n",
       "        vertical-align: middle;\n",
       "    }\n",
       "\n",
       "    .dataframe tbody tr th {\n",
       "        vertical-align: top;\n",
       "    }\n",
       "\n",
       "    .dataframe thead th {\n",
       "        text-align: right;\n",
       "    }\n",
       "</style>\n",
       "<table border=\"1\" class=\"dataframe\">\n",
       "  <thead>\n",
       "    <tr style=\"text-align: right;\">\n",
       "      <th></th>\n",
       "      <th>Cement</th>\n",
       "      <th>Blast Furnace Slag</th>\n",
       "      <th>Fly Ash</th>\n",
       "      <th>Water</th>\n",
       "      <th>Superplasticizer</th>\n",
       "      <th>Coarse Aggregate</th>\n",
       "      <th>Fine Aggregate</th>\n",
       "      <th>Age</th>\n",
       "      <th>Strength</th>\n",
       "    </tr>\n",
       "  </thead>\n",
       "  <tbody>\n",
       "    <tr>\n",
       "      <th>0</th>\n",
       "      <td>540.0</td>\n",
       "      <td>0.0</td>\n",
       "      <td>0.0</td>\n",
       "      <td>162.0</td>\n",
       "      <td>2.5</td>\n",
       "      <td>1040.0</td>\n",
       "      <td>676.0</td>\n",
       "      <td>28</td>\n",
       "      <td>79.99</td>\n",
       "    </tr>\n",
       "    <tr>\n",
       "      <th>1</th>\n",
       "      <td>540.0</td>\n",
       "      <td>0.0</td>\n",
       "      <td>0.0</td>\n",
       "      <td>162.0</td>\n",
       "      <td>2.5</td>\n",
       "      <td>1055.0</td>\n",
       "      <td>676.0</td>\n",
       "      <td>28</td>\n",
       "      <td>61.89</td>\n",
       "    </tr>\n",
       "    <tr>\n",
       "      <th>2</th>\n",
       "      <td>332.5</td>\n",
       "      <td>142.5</td>\n",
       "      <td>0.0</td>\n",
       "      <td>228.0</td>\n",
       "      <td>0.0</td>\n",
       "      <td>932.0</td>\n",
       "      <td>594.0</td>\n",
       "      <td>270</td>\n",
       "      <td>40.27</td>\n",
       "    </tr>\n",
       "    <tr>\n",
       "      <th>3</th>\n",
       "      <td>332.5</td>\n",
       "      <td>142.5</td>\n",
       "      <td>0.0</td>\n",
       "      <td>228.0</td>\n",
       "      <td>0.0</td>\n",
       "      <td>932.0</td>\n",
       "      <td>594.0</td>\n",
       "      <td>365</td>\n",
       "      <td>41.05</td>\n",
       "    </tr>\n",
       "    <tr>\n",
       "      <th>4</th>\n",
       "      <td>198.6</td>\n",
       "      <td>132.4</td>\n",
       "      <td>0.0</td>\n",
       "      <td>192.0</td>\n",
       "      <td>0.0</td>\n",
       "      <td>978.4</td>\n",
       "      <td>825.5</td>\n",
       "      <td>360</td>\n",
       "      <td>44.30</td>\n",
       "    </tr>\n",
       "  </tbody>\n",
       "</table>\n",
       "</div>"
      ],
      "text/plain": [
       "   Cement  Blast Furnace Slag  Fly Ash  Water  Superplasticizer  \\\n",
       "0   540.0                 0.0      0.0  162.0               2.5   \n",
       "1   540.0                 0.0      0.0  162.0               2.5   \n",
       "2   332.5               142.5      0.0  228.0               0.0   \n",
       "3   332.5               142.5      0.0  228.0               0.0   \n",
       "4   198.6               132.4      0.0  192.0               0.0   \n",
       "\n",
       "   Coarse Aggregate  Fine Aggregate  Age  Strength  \n",
       "0            1040.0           676.0   28     79.99  \n",
       "1            1055.0           676.0   28     61.89  \n",
       "2             932.0           594.0  270     40.27  \n",
       "3             932.0           594.0  365     41.05  \n",
       "4             978.4           825.5  360     44.30  "
      ]
     },
     "execution_count": 6,
     "metadata": {},
     "output_type": "execute_result"
    }
   ],
   "source": [
    "concrete_data = pd.read_csv(\"concrete_data.csv\")\n",
    "concrete_data.head()\n"
   ]
  },
  {
   "cell_type": "code",
   "execution_count": 7,
   "metadata": {},
   "outputs": [
    {
     "data": {
      "text/plain": [
       "(1030, 9)"
      ]
     },
     "execution_count": 7,
     "metadata": {},
     "output_type": "execute_result"
    }
   ],
   "source": [
    "concrete_data.shape"
   ]
  },
  {
   "cell_type": "code",
   "execution_count": 8,
   "metadata": {},
   "outputs": [
    {
     "data": {
      "text/html": [
       "<div>\n",
       "<style scoped>\n",
       "    .dataframe tbody tr th:only-of-type {\n",
       "        vertical-align: middle;\n",
       "    }\n",
       "\n",
       "    .dataframe tbody tr th {\n",
       "        vertical-align: top;\n",
       "    }\n",
       "\n",
       "    .dataframe thead th {\n",
       "        text-align: right;\n",
       "    }\n",
       "</style>\n",
       "<table border=\"1\" class=\"dataframe\">\n",
       "  <thead>\n",
       "    <tr style=\"text-align: right;\">\n",
       "      <th></th>\n",
       "      <th>Cement</th>\n",
       "      <th>Blast Furnace Slag</th>\n",
       "      <th>Fly Ash</th>\n",
       "      <th>Water</th>\n",
       "      <th>Superplasticizer</th>\n",
       "      <th>Coarse Aggregate</th>\n",
       "      <th>Fine Aggregate</th>\n",
       "      <th>Age</th>\n",
       "      <th>Strength</th>\n",
       "    </tr>\n",
       "  </thead>\n",
       "  <tbody>\n",
       "    <tr>\n",
       "      <th>count</th>\n",
       "      <td>1030.000000</td>\n",
       "      <td>1030.000000</td>\n",
       "      <td>1030.000000</td>\n",
       "      <td>1030.000000</td>\n",
       "      <td>1030.000000</td>\n",
       "      <td>1030.000000</td>\n",
       "      <td>1030.000000</td>\n",
       "      <td>1030.000000</td>\n",
       "      <td>1030.000000</td>\n",
       "    </tr>\n",
       "    <tr>\n",
       "      <th>mean</th>\n",
       "      <td>281.167864</td>\n",
       "      <td>73.895825</td>\n",
       "      <td>54.188350</td>\n",
       "      <td>181.567282</td>\n",
       "      <td>6.204660</td>\n",
       "      <td>972.918932</td>\n",
       "      <td>773.580485</td>\n",
       "      <td>45.662136</td>\n",
       "      <td>35.817961</td>\n",
       "    </tr>\n",
       "    <tr>\n",
       "      <th>std</th>\n",
       "      <td>104.506364</td>\n",
       "      <td>86.279342</td>\n",
       "      <td>63.997004</td>\n",
       "      <td>21.354219</td>\n",
       "      <td>5.973841</td>\n",
       "      <td>77.753954</td>\n",
       "      <td>80.175980</td>\n",
       "      <td>63.169912</td>\n",
       "      <td>16.705742</td>\n",
       "    </tr>\n",
       "    <tr>\n",
       "      <th>min</th>\n",
       "      <td>102.000000</td>\n",
       "      <td>0.000000</td>\n",
       "      <td>0.000000</td>\n",
       "      <td>121.800000</td>\n",
       "      <td>0.000000</td>\n",
       "      <td>801.000000</td>\n",
       "      <td>594.000000</td>\n",
       "      <td>1.000000</td>\n",
       "      <td>2.330000</td>\n",
       "    </tr>\n",
       "    <tr>\n",
       "      <th>25%</th>\n",
       "      <td>192.375000</td>\n",
       "      <td>0.000000</td>\n",
       "      <td>0.000000</td>\n",
       "      <td>164.900000</td>\n",
       "      <td>0.000000</td>\n",
       "      <td>932.000000</td>\n",
       "      <td>730.950000</td>\n",
       "      <td>7.000000</td>\n",
       "      <td>23.710000</td>\n",
       "    </tr>\n",
       "    <tr>\n",
       "      <th>50%</th>\n",
       "      <td>272.900000</td>\n",
       "      <td>22.000000</td>\n",
       "      <td>0.000000</td>\n",
       "      <td>185.000000</td>\n",
       "      <td>6.400000</td>\n",
       "      <td>968.000000</td>\n",
       "      <td>779.500000</td>\n",
       "      <td>28.000000</td>\n",
       "      <td>34.445000</td>\n",
       "    </tr>\n",
       "    <tr>\n",
       "      <th>75%</th>\n",
       "      <td>350.000000</td>\n",
       "      <td>142.950000</td>\n",
       "      <td>118.300000</td>\n",
       "      <td>192.000000</td>\n",
       "      <td>10.200000</td>\n",
       "      <td>1029.400000</td>\n",
       "      <td>824.000000</td>\n",
       "      <td>56.000000</td>\n",
       "      <td>46.135000</td>\n",
       "    </tr>\n",
       "    <tr>\n",
       "      <th>max</th>\n",
       "      <td>540.000000</td>\n",
       "      <td>359.400000</td>\n",
       "      <td>200.100000</td>\n",
       "      <td>247.000000</td>\n",
       "      <td>32.200000</td>\n",
       "      <td>1145.000000</td>\n",
       "      <td>992.600000</td>\n",
       "      <td>365.000000</td>\n",
       "      <td>82.600000</td>\n",
       "    </tr>\n",
       "  </tbody>\n",
       "</table>\n",
       "</div>"
      ],
      "text/plain": [
       "            Cement  Blast Furnace Slag      Fly Ash        Water  \\\n",
       "count  1030.000000         1030.000000  1030.000000  1030.000000   \n",
       "mean    281.167864           73.895825    54.188350   181.567282   \n",
       "std     104.506364           86.279342    63.997004    21.354219   \n",
       "min     102.000000            0.000000     0.000000   121.800000   \n",
       "25%     192.375000            0.000000     0.000000   164.900000   \n",
       "50%     272.900000           22.000000     0.000000   185.000000   \n",
       "75%     350.000000          142.950000   118.300000   192.000000   \n",
       "max     540.000000          359.400000   200.100000   247.000000   \n",
       "\n",
       "       Superplasticizer  Coarse Aggregate  Fine Aggregate          Age  \\\n",
       "count       1030.000000       1030.000000     1030.000000  1030.000000   \n",
       "mean           6.204660        972.918932      773.580485    45.662136   \n",
       "std            5.973841         77.753954       80.175980    63.169912   \n",
       "min            0.000000        801.000000      594.000000     1.000000   \n",
       "25%            0.000000        932.000000      730.950000     7.000000   \n",
       "50%            6.400000        968.000000      779.500000    28.000000   \n",
       "75%           10.200000       1029.400000      824.000000    56.000000   \n",
       "max           32.200000       1145.000000      992.600000   365.000000   \n",
       "\n",
       "          Strength  \n",
       "count  1030.000000  \n",
       "mean     35.817961  \n",
       "std      16.705742  \n",
       "min       2.330000  \n",
       "25%      23.710000  \n",
       "50%      34.445000  \n",
       "75%      46.135000  \n",
       "max      82.600000  "
      ]
     },
     "execution_count": 8,
     "metadata": {},
     "output_type": "execute_result"
    }
   ],
   "source": [
    "concrete_data.describe()"
   ]
  },
  {
   "cell_type": "code",
   "execution_count": 9,
   "metadata": {},
   "outputs": [
    {
     "data": {
      "text/plain": [
       "Cement                0\n",
       "Blast Furnace Slag    0\n",
       "Fly Ash               0\n",
       "Water                 0\n",
       "Superplasticizer      0\n",
       "Coarse Aggregate      0\n",
       "Fine Aggregate        0\n",
       "Age                   0\n",
       "Strength              0\n",
       "dtype: int64"
      ]
     },
     "execution_count": 9,
     "metadata": {},
     "output_type": "execute_result"
    }
   ],
   "source": [
    "concrete_data.isnull().sum()"
   ]
  },
  {
   "cell_type": "code",
   "execution_count": 10,
   "metadata": {},
   "outputs": [],
   "source": [
    "target =\"Strength\"\n",
    "X= concrete_data.copy()\n",
    "y= X.pop(target)"
   ]
  },
  {
   "cell_type": "code",
   "execution_count": 11,
   "metadata": {},
   "outputs": [
    {
     "data": {
      "text/plain": [
       "0    79.99\n",
       "1    61.89\n",
       "2    40.27\n",
       "3    41.05\n",
       "4    44.30\n",
       "Name: Strength, dtype: float64"
      ]
     },
     "execution_count": 11,
     "metadata": {},
     "output_type": "execute_result"
    }
   ],
   "source": [
    "y.head()"
   ]
  },
  {
   "cell_type": "code",
   "execution_count": 12,
   "metadata": {},
   "outputs": [],
   "source": [
    "n_cols = X.shape[1]\n",
    "input_shape=(n_cols,)"
   ]
  },
  {
   "cell_type": "code",
   "execution_count": 13,
   "metadata": {},
   "outputs": [],
   "source": [
    "from sklearn.model_selection import train_test_split\n"
   ]
  },
  {
   "cell_type": "code",
   "execution_count": 14,
   "metadata": {},
   "outputs": [],
   "source": [
    "from tensorflow import keras as K \n",
    "from tensorflow.keras.models import Sequential \n",
    "from tensorflow.keras.layers import Dense"
   ]
  },
  {
   "cell_type": "code",
   "execution_count": 15,
   "metadata": {},
   "outputs": [],
   "source": [
    "def regression_model (network_arch, input_shape, optimizer =\"adam\", loss = \"mean_squared_error\",):\n",
    "    model = Sequential()\n",
    "\n",
    "    nlayers =len(network_arch)\n",
    "    final_layer= \"layer_\" + str(nlayers)\n",
    "\n",
    "    for k,layer in network_arch.items():\n",
    "        n_units =layer.get(\"n_units\")\n",
    "        activation = layer.get(\"activation\")\n",
    "        if k == \"layer_1\":\n",
    "            model.add(Dense(n_units, activation = activation, input_shape = input_shape))\n",
    "        elif k == final_layer:\n",
    "            model.add(Dense(n_units))\n",
    "        else:\n",
    "            model.add(Dense(n_units, activation = activation))\n",
    "\n",
    "    model.compile(optimizer=optimizer, loss=loss)\n",
    "\n",
    "    return model"
   ]
  },
  {
   "cell_type": "code",
   "execution_count": 16,
   "metadata": {},
   "outputs": [
    {
     "name": "stdout",
     "output_type": "stream",
     "text": [
      "\n",
      "input_shape =(8,)\n",
      "network_config ={'layer_1': {'n_units': 10, 'activation': 'relu'}, 'layer_2': {'n_units': 1}}\n",
      "\n"
     ]
    }
   ],
   "source": [
    "model_architecture1 = {\"layer_1\": {\"n_units\": 10, \"activation\": \"relu\"}, \"layer_2\" :{\"n_units\": 1},}\n",
    "\n",
    "print()\n",
    "print(\"input_shape ={}\".format(input_shape))\n",
    "print(\"network_config ={}\".format(model_architecture1))\n",
    "print()"
   ]
  },
  {
   "cell_type": "code",
   "execution_count": 17,
   "metadata": {},
   "outputs": [],
   "source": [
    "from sklearn.metrics import mean_squared_error\n"
   ]
  },
  {
   "cell_type": "code",
   "execution_count": 18,
   "metadata": {},
   "outputs": [],
   "source": [
    "def train_and_test_several_models(X,y, test_size, model_arch, input_shape, optimizer, loss, niterations,epochs,pred_norm =False, seed = 345, verbose = 2,):\n",
    "    metric_list = np.zeros(niterations)\n",
    "\n",
    "    print()\n",
    "    print(\"Launching {} iterations of\".format(niterations))\n",
    "    print(\" - train/test split => test_size = {}\".format(test_size))\n",
    "    if pred_norm:\n",
    "        print(\" --Apply predictors normalization\")\n",
    "    else:\n",
    "        print(\" - NO predictors normalization\")\n",
    "    print(\" - model architecture: {}\".format(model_arch))\n",
    "    print(\" - model training:\")\n",
    "    print(\" * epochs = {}\".format(epochs))\n",
    "    print(\" * optimizer = {}\".format(optimizer))\n",
    "    print(\" * loss = {}\".format(loss))\n",
    "    print()\n",
    "\n",
    "    for i in range(niterations):\n",
    "        myseed = seed + i*2\n",
    "        X_train, X_test, y_train, y_test = train_test_split(X, y, test_size=test_size, random_state=myseed)\n",
    "\n",
    "        model = regression_model(network_arch= model_arch, input_shape= input_shape, optimizer=optimizer, loss=loss)\n",
    "        if pred_norm:\n",
    "            X_train_mean = X_train.mean()\n",
    "            X_train_std = X_train.std()\n",
    "            X_train = (X_train - X_train_mean)/X_train_std\n",
    "            X_test =(X_test - X_train_mean)/X_train_std\n",
    "        myverbose= 0\n",
    "        if  i==0:\n",
    "            myverbose = verbose\n",
    "            print(\"Train/test splitting for iteration {}\".format(i+1))\n",
    "            print(\" X_train.shape = {}\".format(X_train.shape))\n",
    "            print(\" y_train.shape = {}\".format(y_train.shape))\n",
    "            print(\" X_test.shape = {}\".format(X_test.shape))\n",
    "            print(\" y_test.shape = {}\".format(y_test.shape))\n",
    "            print(X_train.head())\n",
    "            print()\n",
    "            print(\"Model summary for iteration {}\".format(i+1))\n",
    "            model.summary()\n",
    "            print()\n",
    "            print()\n",
    "\n",
    "        model.fit(X_train, y_train, epochs= epochs, verbose=verbose)\n",
    "        y_pred = model.predict(X_test)\n",
    "        result = np.sqrt(mean_squared_error(y_test,y_pred))\n",
    "        print(\"{}: sqrt(mse) = {}\".format(i+1, result))\n",
    "        metric_list[i] = result \n",
    "    print()\n",
    "\n",
    "    return metric_list"
   ]
  },
  {
   "cell_type": "code",
   "execution_count": 19,
   "metadata": {},
   "outputs": [],
   "source": [
    "niterations  = 50\n",
    "test_size = 0.3"
   ]
  },
  {
   "cell_type": "code",
   "execution_count": null,
   "metadata": {},
   "outputs": [],
   "source": [
    "sq_mse_list_A= train_and_test_several_models(X=X,\n",
    "                                            y = y,\n",
    "                                            test_size=test_size, \n",
    "                                            model_arch=model_architecture1, \n",
    "                                            input_shape=input_shape, \n",
    "                                            optimizer=\"adam\", \n",
    "                                            loss= \"mean_squared_error\", \n",
    "                                            niterations= niterations, \n",
    "                                            epochs=50, \n",
    "                                            seed= 345, \n",
    "                                            verbose = 0, \n",
    "                                            pred_norm=False,)\n"
   ]
  },
  {
   "cell_type": "code",
   "execution_count": 21,
   "metadata": {},
   "outputs": [
    {
     "data": {
      "text/html": [
       "<div>\n",
       "<style scoped>\n",
       "    .dataframe tbody tr th:only-of-type {\n",
       "        vertical-align: middle;\n",
       "    }\n",
       "\n",
       "    .dataframe tbody tr th {\n",
       "        vertical-align: top;\n",
       "    }\n",
       "\n",
       "    .dataframe thead th {\n",
       "        text-align: right;\n",
       "    }\n",
       "</style>\n",
       "<table border=\"1\" class=\"dataframe\">\n",
       "  <thead>\n",
       "    <tr style=\"text-align: right;\">\n",
       "      <th></th>\n",
       "      <th>Part</th>\n",
       "      <th>mean_sq_mse</th>\n",
       "      <th>std_sq_mse</th>\n",
       "    </tr>\n",
       "  </thead>\n",
       "  <tbody>\n",
       "    <tr>\n",
       "      <th>0</th>\n",
       "      <td>A</td>\n",
       "      <td>17.336088</td>\n",
       "      <td>11.546754</td>\n",
       "    </tr>\n",
       "  </tbody>\n",
       "</table>\n",
       "</div>"
      ],
      "text/plain": [
       "  Part  mean_sq_mse  std_sq_mse\n",
       "0    A    17.336088   11.546754"
      ]
     },
     "execution_count": 21,
     "metadata": {},
     "output_type": "execute_result"
    }
   ],
   "source": [
    "mean_sqmse_A =np.mean(sq_mse_list_A)\n",
    "std_sqmse_A = np.std(sq_mse_list_A)\n",
    "\n",
    "df_results =pd.DataFrame.from_dict({\"Part\":[\"A\"], \"mean_sq_mse\": [mean_sqmse_A], \"std_sq_mse\": [std_sqmse_A]})\n",
    "df_results"
   ]
  },
  {
   "cell_type": "code",
   "execution_count": 22,
   "metadata": {},
   "outputs": [],
   "source": [
    "figsize= (10,8)\n",
    "nbins = 20"
   ]
  },
  {
   "cell_type": "code",
   "execution_count": 23,
   "metadata": {},
   "outputs": [],
   "source": [
    "import matplotlib.pyplot as plt\n",
    "import numpy as np\n",
    "%matplotlib inline\n",
    "\n",
    "def plot_results(result_list,\n",
    "                 label_list,\n",
    "                 var_name=\"sq(mse)\",\n",
    "                 figsize=(15, 10),\n",
    "                 nbins=10):\n",
    "    if len(result_list) != len(label_list):\n",
    "        raise ValueError(\"lengths of result_list and label_list has to be the same\")\n",
    "    \n",
    "    if len(result_list) == 0:\n",
    "        raise ValueError(\"lengths of result_list has to be >0\")\n",
    "\n",
    "    color_list = [\"b\", \"r\", \"m\", \"y\"]\n",
    "\n",
    "    xmin = 1.0e+20\n",
    "    xmax = -1.0e+20  # Correcting the initialization for xmax\n",
    "    for arr in result_list:  # Correcting the typo here\n",
    "        min_tmp = np.amin(arr)\n",
    "        max_tmp = np.amax(arr)\n",
    "\n",
    "        if xmin > min_tmp:\n",
    "            xmin = min_tmp\n",
    "        if xmax < max_tmp:\n",
    "            xmax = max_tmp\n",
    "    \n",
    "    percent = .01\n",
    "    delta = xmax - xmin\n",
    "    xmin -= percent * delta\n",
    "    xmax += percent * delta\n",
    "\n",
    "    bins = np.linspace(xmin, xmax, nbins + 1)\n",
    "\n",
    "    fig, ax = plt.subplots(nrows=1, ncols=1, figsize=figsize)\n",
    "\n",
    "    porcent = .05\n",
    "\n",
    "    ymax = -1.0e+20\n",
    "    for i, arr in enumerate(result_list):\n",
    "        n, _, _ = ax.hist(x=arr,\n",
    "                          bins=bins,\n",
    "                          color=color_list[i],\n",
    "                          alpha=0.5,\n",
    "                          density=False,\n",
    "                          label=label_list[i])\n",
    "        if ymax < np.amax(n):\n",
    "            ymax = np.amax(n)\n",
    "\n",
    "    ax.legend()\n",
    "    ax.set_xlim([bins[0], bins[-1]])\n",
    "    ax.set_ylim([0, ymax * (1.0 + porcent)])\n",
    "    ax.set_xlabel(var_name)\n",
    "    ax.set_ylabel('occurrences')\n",
    "    ax.set_title(var_name + ' distribution')\n",
    "\n",
    "    fig.tight_layout()\n",
    "\n",
    "    plt.show()\n"
   ]
  },
  {
   "cell_type": "code",
   "execution_count": 24,
   "metadata": {},
   "outputs": [
    {
     "data": {
      "image/png": "[encoded data removed]",
      "text/plain": [
       "<Figure size 1000x800 with 1 Axes>"
      ]
     },
     "metadata": {},
     "output_type": "display_data"
    }
   ],
   "source": [
    "plot_results(result_list = [sq_mse_list_A],\n",
    "            label_list =[\"Part A\"],\n",
    "            var_name=\"sq(mse)\",\n",
    "            figsize = figsize,\n",
    "            nbins =nbins)"
   ]
  },
  {
   "cell_type": "code",
   "execution_count": null,
   "metadata": {},
   "outputs": [],
   "source": [
    "sq_mse_list_B= train_and_test_several_models(X=X,\n",
    "                                            y = y,\n",
    "                                            test_size=test_size, \n",
    "                                            model_arch=model_architecture1, \n",
    "                                            input_shape=input_shape, \n",
    "                                            optimizer=\"adam\", \n",
    "                                            loss= \"mean_squared_error\", \n",
    "                                            niterations= niterations, \n",
    "                                            epochs=50, \n",
    "                                            seed= 3675, \n",
    "                                            verbose = 0, \n",
    "                                            pred_norm=True,)"
   ]
  },
  {
   "cell_type": "code",
   "execution_count": 26,
   "metadata": {},
   "outputs": [
    {
     "data": {
      "text/html": [
       "<div>\n",
       "<style scoped>\n",
       "    .dataframe tbody tr th:only-of-type {\n",
       "        vertical-align: middle;\n",
       "    }\n",
       "\n",
       "    .dataframe tbody tr th {\n",
       "        vertical-align: top;\n",
       "    }\n",
       "\n",
       "    .dataframe thead th {\n",
       "        text-align: right;\n",
       "    }\n",
       "</style>\n",
       "<table border=\"1\" class=\"dataframe\">\n",
       "  <thead>\n",
       "    <tr style=\"text-align: right;\">\n",
       "      <th></th>\n",
       "      <th>Part</th>\n",
       "      <th>mean_sq_mse</th>\n",
       "      <th>std_sq_mse</th>\n",
       "    </tr>\n",
       "  </thead>\n",
       "  <tbody>\n",
       "    <tr>\n",
       "      <th>0</th>\n",
       "      <td>A</td>\n",
       "      <td>17.336088</td>\n",
       "      <td>11.546754</td>\n",
       "    </tr>\n",
       "    <tr>\n",
       "      <th>1</th>\n",
       "      <td>B</td>\n",
       "      <td>18.938847</td>\n",
       "      <td>3.202697</td>\n",
       "    </tr>\n",
       "  </tbody>\n",
       "</table>\n",
       "</div>"
      ],
      "text/plain": [
       "  Part  mean_sq_mse  std_sq_mse\n",
       "0    A    17.336088   11.546754\n",
       "1    B    18.938847    3.202697"
      ]
     },
     "execution_count": 26,
     "metadata": {},
     "output_type": "execute_result"
    }
   ],
   "source": [
    "mean_sqmse_B =np.mean(sq_mse_list_B)\n",
    "std_sqmse_B= np.std(sq_mse_list_B)\n",
    "\n",
    "df_results.loc[df_results.shape[0]]= [\"B\", mean_sqmse_B,std_sqmse_B]\n",
    "df_results"
   ]
  },
  {
   "cell_type": "code",
   "execution_count": 27,
   "metadata": {},
   "outputs": [
    {
     "data": {
      "image/png": "[encoded data removed]",
      "text/plain": [
       "<Figure size 1000x800 with 1 Axes>"
      ]
     },
     "metadata": {},
     "output_type": "display_data"
    }
   ],
   "source": [
    "plot_results(result_list =[sq_mse_list_A, sq_mse_list_B],\n",
    "                label_list =[\"Part A\", \"Part B\"],\n",
    "                var_name =\"sq(mse)\",\n",
    "                figsize = figsize,\n",
    "                nbins = nbins)\n",
    "                \n"
   ]
  },
  {
   "cell_type": "code",
   "execution_count": null,
   "metadata": {},
   "outputs": [],
   "source": [
    "sq_mse_list_C= train_and_test_several_models(X=X,\n",
    "                                            y = y,\n",
    "                                            test_size=test_size, \n",
    "                                            model_arch=model_architecture1, \n",
    "                                            input_shape=input_shape, \n",
    "                                            optimizer=\"adam\", \n",
    "                                            loss= \"mean_squared_error\", \n",
    "                                            niterations= niterations, \n",
    "                                            epochs=100, \n",
    "                                            seed= 3675, \n",
    "                                            verbose = 0, \n",
    "                                            pred_norm=True,)"
   ]
  },
  {
   "cell_type": "code",
   "execution_count": 29,
   "metadata": {},
   "outputs": [
    {
     "data": {
      "text/html": [
       "<div>\n",
       "<style scoped>\n",
       "    .dataframe tbody tr th:only-of-type {\n",
       "        vertical-align: middle;\n",
       "    }\n",
       "\n",
       "    .dataframe tbody tr th {\n",
       "        vertical-align: top;\n",
       "    }\n",
       "\n",
       "    .dataframe thead th {\n",
       "        text-align: right;\n",
       "    }\n",
       "</style>\n",
       "<table border=\"1\" class=\"dataframe\">\n",
       "  <thead>\n",
       "    <tr style=\"text-align: right;\">\n",
       "      <th></th>\n",
       "      <th>Part</th>\n",
       "      <th>mean_sq_mse</th>\n",
       "      <th>std_sq_mse</th>\n",
       "    </tr>\n",
       "  </thead>\n",
       "  <tbody>\n",
       "    <tr>\n",
       "      <th>0</th>\n",
       "      <td>A</td>\n",
       "      <td>17.336088</td>\n",
       "      <td>11.546754</td>\n",
       "    </tr>\n",
       "    <tr>\n",
       "      <th>1</th>\n",
       "      <td>B</td>\n",
       "      <td>18.938847</td>\n",
       "      <td>3.202697</td>\n",
       "    </tr>\n",
       "    <tr>\n",
       "      <th>2</th>\n",
       "      <td>C</td>\n",
       "      <td>12.822561</td>\n",
       "      <td>0.601512</td>\n",
       "    </tr>\n",
       "  </tbody>\n",
       "</table>\n",
       "</div>"
      ],
      "text/plain": [
       "  Part  mean_sq_mse  std_sq_mse\n",
       "0    A    17.336088   11.546754\n",
       "1    B    18.938847    3.202697\n",
       "2    C    12.822561    0.601512"
      ]
     },
     "execution_count": 29,
     "metadata": {},
     "output_type": "execute_result"
    }
   ],
   "source": [
    "mean_sqmse_C =np.mean(sq_mse_list_C)\n",
    "std_sqmse_C= np.std(sq_mse_list_C)\n",
    "\n",
    "df_results.loc[df_results.shape[0]]= [\"C\", mean_sqmse_C,std_sqmse_C]\n",
    "df_results"
   ]
  },
  {
   "cell_type": "code",
   "execution_count": 30,
   "metadata": {},
   "outputs": [
    {
     "data": {
      "image/png": "[encoded data removed]",
      "text/plain": [
       "<Figure size 1000x800 with 1 Axes>"
      ]
     },
     "metadata": {},
     "output_type": "display_data"
    }
   ],
   "source": [
    "plot_results(result_list =[sq_mse_list_A, sq_mse_list_B, sq_mse_list_C],\n",
    "                label_list =[\"Part A\", \"Part B\", \"Part C\"],\n",
    "                var_name =\"sq(mse)\",\n",
    "                figsize = figsize,\n",
    "                nbins = nbins)"
   ]
  },
  {
   "cell_type": "code",
   "execution_count": 31,
   "metadata": {},
   "outputs": [
    {
     "name": "stdout",
     "output_type": "stream",
     "text": [
      "\n",
      "input_shape =(8,)\n",
      "network_config ={'layer_1': {'n_units': 10, 'activation': 'relu'}, 'layer_2': {'n_units': 10, 'activation': 'relu'}, 'layer_3': {'n_units': 10, 'activation': 'relu'}, 'layer_4': {'n_units': 1}}\n",
      "\n"
     ]
    }
   ],
   "source": [
    "model_architecture2 = {\"layer_1\": {\"n_units\": 10, \"activation\": \"relu\"},\n",
    "                        \"layer_2\" :{\"n_units\": 10, \"activation\":\"relu\"},\n",
    "                        \"layer_3\" :{\"n_units\": 10, \"activation\": \"relu\"},\n",
    "                        \"layer_4\": {\"n_units\": 1},\n",
    "                        }\n",
    "\n",
    "print()\n",
    "print(\"input_shape ={}\".format(input_shape))\n",
    "print(\"network_config ={}\".format(model_architecture2))\n",
    "print()"
   ]
  },
  {
   "cell_type": "code",
   "execution_count": null,
   "metadata": {},
   "outputs": [],
   "source": [
    "sq_mse_list_D= train_and_test_several_models(X=X,\n",
    "                                            y = y,\n",
    "                                            test_size=test_size, \n",
    "                                            model_arch=model_architecture2, \n",
    "                                            input_shape=input_shape, \n",
    "                                            optimizer=\"adam\", \n",
    "                                            loss= \"mean_squared_error\", \n",
    "                                            niterations= niterations, \n",
    "                                            epochs=50, \n",
    "                                            seed= 3675, \n",
    "                                            verbose = 0, \n",
    "                                            pred_norm=True,)"
   ]
  },
  {
   "cell_type": "code",
   "execution_count": 35,
   "metadata": {},
   "outputs": [
    {
     "data": {
      "text/html": [
       "<div>\n",
       "<style scoped>\n",
       "    .dataframe tbody tr th:only-of-type {\n",
       "        vertical-align: middle;\n",
       "    }\n",
       "\n",
       "    .dataframe tbody tr th {\n",
       "        vertical-align: top;\n",
       "    }\n",
       "\n",
       "    .dataframe thead th {\n",
       "        text-align: right;\n",
       "    }\n",
       "</style>\n",
       "<table border=\"1\" class=\"dataframe\">\n",
       "  <thead>\n",
       "    <tr style=\"text-align: right;\">\n",
       "      <th></th>\n",
       "      <th>Part</th>\n",
       "      <th>mean_sq_mse</th>\n",
       "      <th>std_sq_mse</th>\n",
       "    </tr>\n",
       "  </thead>\n",
       "  <tbody>\n",
       "    <tr>\n",
       "      <th>0</th>\n",
       "      <td>A</td>\n",
       "      <td>17.336088</td>\n",
       "      <td>11.546754</td>\n",
       "    </tr>\n",
       "    <tr>\n",
       "      <th>1</th>\n",
       "      <td>B</td>\n",
       "      <td>18.938847</td>\n",
       "      <td>3.202697</td>\n",
       "    </tr>\n",
       "    <tr>\n",
       "      <th>2</th>\n",
       "      <td>C</td>\n",
       "      <td>12.822561</td>\n",
       "      <td>0.601512</td>\n",
       "    </tr>\n",
       "    <tr>\n",
       "      <th>3</th>\n",
       "      <td>D</td>\n",
       "      <td>18.974277</td>\n",
       "      <td>2.669669</td>\n",
       "    </tr>\n",
       "    <tr>\n",
       "      <th>4</th>\n",
       "      <td>D</td>\n",
       "      <td>11.324337</td>\n",
       "      <td>0.582673</td>\n",
       "    </tr>\n",
       "  </tbody>\n",
       "</table>\n",
       "</div>"
      ],
      "text/plain": [
       "  Part  mean_sq_mse  std_sq_mse\n",
       "0    A    17.336088   11.546754\n",
       "1    B    18.938847    3.202697\n",
       "2    C    12.822561    0.601512\n",
       "3    D    18.974277    2.669669\n",
       "4    D    11.324337    0.582673"
      ]
     },
     "execution_count": 35,
     "metadata": {},
     "output_type": "execute_result"
    }
   ],
   "source": [
    "mean_sqmse_D=np.mean(sq_mse_list_D)\n",
    "std_sqmse_D= np.std(sq_mse_list_D)\n",
    "\n",
    "df_results.loc[df_results.shape[0]]= [\"D\", mean_sqmse_D,std_sqmse_D]\n",
    "df_results"
   ]
  },
  {
   "cell_type": "code",
   "execution_count": 36,
   "metadata": {},
   "outputs": [
    {
     "data": {
      "image/png": "[encoded data removed]",
      "text/plain": [
       "<Figure size 1000x800 with 1 Axes>"
      ]
     },
     "metadata": {},
     "output_type": "display_data"
    }
   ],
   "source": [
    "plot_results(result_list =[sq_mse_list_A, sq_mse_list_B, sq_mse_list_C,sq_mse_list_D],\n",
    "                label_list =[\"Part A\", \"Part B\", \"Part C\", \"Part D\"],\n",
    "                var_name =\"sq(mse)\",\n",
    "                figsize = figsize,\n",
    "                nbins = nbins)"
   ]
  }
 ],
 "metadata": {
  "kernelspec": {
   "display_name": "Python 3",
   "language": "python",
   "name": "python3"
  },
  "language_info": {
   "codemirror_mode": {
    "name": "ipython",
    "version": 3
   },
   "file_extension": ".py",
   "mimetype": "text/x-python",
   "name": "python",
   "nbconvert_exporter": "python",
   "pygments_lexer": "ipython3",
   "version": "3.12.2"
  }
 },
 "nbformat": 4,
 "nbformat_minor": 2
}
